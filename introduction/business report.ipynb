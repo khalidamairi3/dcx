{
    "cells": [
        {
            "cell_type": "markdown",
            "metadata": {
                "collapsed": true
            },
            "source": "# CAPSTONE\n## Battle of the Neighborhoods\n### __Italian Restaurants__\nkhaled Amayri\n\n### -------------------------------------------------------------------------------------------------------"
        },
        {
            "cell_type": "markdown",
            "metadata": {},
            "source": "#### __Introduction__\nThis final project explores the best locations for Italian restaurants throughout the city of New York. Food Business News stated that worldwide pasta sales were up for the second year in a row with the United Sates holding the largest market (Donley, 2018).  New York is a major metropolitan area with more than 8.4 million (Quick Facts, 2018) people living within city limits. Most of the Italian immigration into the United States occurred during the late 19th and early 20th century with over two million immigrants between 1900 and 1910.  Italian families first settled in Little Italy\u2019s neighborhood around Mulberry Street as has continued to thrive ever since.  With almost 700,000 Manhattan inhabitants reporting Italian ancestry, the need to find and enjoy Italian cuisine is on the rise.  This report explores which neighborhoods and boroughs of New York City have the most as well as the best Italian restaurants. Additionally, I will attempt to answer the questions \u201cWhere should I open an Italian Restaurant?\u201d and \u201cWhere should I stay If I want great Italian food?\u201d"
        },
        {
            "cell_type": "markdown",
            "metadata": {},
            "source": "### __Data__\nIn order to answer the above questions, data on New York City neighborhoods, boroughs to include boundaries, latitude, longitude, restaurants, and restaurant ratings and tips are required.\n\nNew York City data containing the neighborhoods and boroughs, latitudes, and longitudes will be obtained from the data source: https://cocl.us/new_york_dataset\n\nNew York City data containing neighborhood boundaries will be obtained from the data source: https://data.cityofnewyork.us/City-Government/Borough-Boundaries/tqmj-j8zm\n\nAll data related to locations and quality of Italian restaurants will be obtained via the FourSquare API utilized via the Request library in Python."
        },
        {
            "cell_type": "markdown",
            "metadata": {},
            "source": "### __Methodology__\n\u2022\tData will be collected from https://cocl.us/new_york_dataset and cleaned and processed into a dataframe.\n\n\u2022\tFourSquare be used to locate all venues and then filtered by Italian restaurants.  Ratings, tips, and likes by users will be counted and added to the dataframe.\n\n\u2022\tData will be sorted based on rankings\n\n\u2022\tFinally, the data be will be visually assessed using graphing from various Python libraries."
        },
        {
            "cell_type": "markdown",
            "metadata": {},
            "source": "### __Problem Statement__\n1.\tWhat is / are the best location(s) for Italian cuisine in New York City?\n2.\tIn what Neighborhood and/or borough should I open an Italian restaurant to have the best chance of being successful?\n3.\tWhere would I go in New York City to have the best Italian food?"
        },
        {
            "cell_type": "code",
            "execution_count": null,
            "metadata": {},
            "outputs": [],
            "source": ""
        }
    ],
    "metadata": {
        "kernelspec": {
            "display_name": "Python 3.6",
            "language": "python",
            "name": "python3"
        },
        "language_info": {
            "codemirror_mode": {
                "name": "ipython",
                "version": 3
            },
            "file_extension": ".py",
            "mimetype": "text/x-python",
            "name": "python",
            "nbconvert_exporter": "python",
            "pygments_lexer": "ipython3",
            "version": "3.6.8"
        }
    },
    "nbformat": 4,
    "nbformat_minor": 1
}